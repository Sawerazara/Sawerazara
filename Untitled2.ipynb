{
 "cells": [
  {
   "cell_type": "code",
   "execution_count": 1,
   "id": "57c40a11",
   "metadata": {},
   "outputs": [],
   "source": [
    "import numpy as np\n",
    "\n",
    "y_pred = np.zeros(10000)\n",
    "y_test = np.zeros(10000)\n",
    "\n",
    "indices1 = np.random.randint(0,10000,300)\n",
    "indices2 = np.random.randint(0,10000,400)\n",
    "indices3 = np.random.randint(0,10000,500)\n",
    "y_pred[indices1] = 1\n",
    "y_test[indices2] = 1\n",
    "y_pred[indices3] = 1\n",
    "y_test[indices3] = 1"
   ]
  },
  {
   "cell_type": "code",
   "execution_count": 2,
   "id": "bcc80e69",
   "metadata": {},
   "outputs": [
    {
     "data": {
      "text/plain": [
       "860.0"
      ]
     },
     "execution_count": 2,
     "metadata": {},
     "output_type": "execute_result"
    }
   ],
   "source": [
    "np.sum(y_test)"
   ]
  },
  {
   "cell_type": "code",
   "execution_count": 22,
   "id": "61c88035",
   "metadata": {},
   "outputs": [
    {
     "data": {
      "text/plain": [
       "774.0"
      ]
     },
     "execution_count": 22,
     "metadata": {},
     "output_type": "execute_result"
    }
   ],
   "source": [
    "np.sum(y_pred)"
   ]
  },
  {
   "cell_type": "code",
   "execution_count": 31,
   "id": "fda9bbf1",
   "metadata": {},
   "outputs": [
    {
     "name": "stdout",
     "output_type": "stream",
     "text": [
      "Accuracy score:  0.937\n"
     ]
    }
   ],
   "source": [
    "from sklearn.metrics import accuracy_score\n",
    "\n",
    "print ('Accuracy score: ', accuracy_score(y_test,y_pred) )"
   ]
  },
  {
   "cell_type": "code",
   "execution_count": 33,
   "id": "e32203c4",
   "metadata": {},
   "outputs": [
    {
     "data": {
      "text/plain": [
       "array([[8868,  272],\n",
       "       [ 358,  502]], dtype=int64)"
      ]
     },
     "execution_count": 33,
     "metadata": {},
     "output_type": "execute_result"
    }
   ],
   "source": [
    "from sklearn.metrics import confusion_matrix\n",
    "\n",
    "confusion_matrix(y_test,y_pred)"
   ]
  },
  {
   "cell_type": "code",
   "execution_count": 34,
   "id": "04339402",
   "metadata": {},
   "outputs": [
    {
     "name": "stdout",
     "output_type": "stream",
     "text": [
      "              precision    recall  f1-score   support\n",
      "\n",
      "         0.0       0.96      0.97      0.97      9140\n",
      "         1.0       0.65      0.58      0.61       860\n",
      "\n",
      "    accuracy                           0.94     10000\n",
      "   macro avg       0.80      0.78      0.79     10000\n",
      "weighted avg       0.93      0.94      0.94     10000\n",
      "\n"
     ]
    }
   ],
   "source": [
    "from sklearn.metrics import classification_report\n",
    "print(classification_report(y_test,y_pred))"
   ]
  }
 ],
 "metadata": {
  "kernelspec": {
   "display_name": "Python 3 (ipykernel)",
   "language": "python",
   "name": "python3"
  },
  "language_info": {
   "codemirror_mode": {
    "name": "ipython",
    "version": 3
   },
   "file_extension": ".py",
   "mimetype": "text/x-python",
   "name": "python",
   "nbconvert_exporter": "python",
   "pygments_lexer": "ipython3",
   "version": "3.9.12"
  }
 },
 "nbformat": 4,
 "nbformat_minor": 5
}
